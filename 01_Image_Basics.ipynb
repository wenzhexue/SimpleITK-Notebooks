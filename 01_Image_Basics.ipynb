{
 "metadata": {
  "name": "",
  "signature": "sha256:9bef5505ad967e3db23fac49c058d323e9d513619d8c69251ef56bc8eaeeb4e3"
 },
 "nbformat": 3,
 "nbformat_minor": 0,
 "worksheets": [
  {
   "cells": [
    {
     "cell_type": "markdown",
     "metadata": {},
     "source": [
      "#Welcome to the first SimpleITK Notebook demo:\n",
      "#SimpleITK Image Basics\n",
      "\n",
      "This document will give a brief orientation to the SimpleITK Image class.\n",
      "\n",
      "First we import the SimpleITK Python module. By convention our module is imported into the shorter and more pythonic \"sitk\" local name.\n"
     ]
    },
    {
     "cell_type": "code",
     "collapsed": false,
     "input": [
      "import matplotlib.pyplot as plt\n",
      "%matplotlib inline\n",
      "import SimpleITK as sitk\n"
     ],
     "language": "python",
     "metadata": {},
     "outputs": [],
     "prompt_number": 1
    },
    {
     "cell_type": "markdown",
     "metadata": {},
     "source": [
      "## Image Construction\n",
      "\n",
      "There are a variety of ways to create an image. All images' initial value is well defined as zero."
     ]
    },
    {
     "cell_type": "code",
     "collapsed": false,
     "input": [
      "image = sitk.Image(256, 128, 64, sitk.sitkInt16)\n",
      "image_2D = sitk.Image(64, 64, sitk.sitkFloat32)\n",
      "image_2D = sitk.Image([32,32], sitk.sitkUInt32)\n",
      "image_RGB = sitk.Image([128,128], sitk.sitkVectorUInt8, 3)"
     ],
     "language": "python",
     "metadata": {},
     "outputs": [],
     "prompt_number": 2
    },
    {
     "cell_type": "markdown",
     "metadata": {},
     "source": [
      "###Pixel Types\n",
      "\n",
      "The pixel type is represented as an enumerated type. The following is a table of the enumerated list.\n",
      "\n",
      "<table>\n",
      "  <tr><td>sitkUInt8</td><td>Unsigned 8 bit integer</td></tr>\n",
      "  <tr><td>sitkInt8</td><td>Signed 8 bit integer</td></tr>\n",
      "  <tr><td>sitkUInt16</td><td>Unsigned 16 bit integer</td></tr>\n",
      "  <tr><td>sitkInt16</td><td>Signed 16 bit integer</td></tr>\n",
      "  <tr><td>sitkUInt32</td><td>Unsigned 32 bit integer</td></tr>\n",
      "  <tr><td>sitkInt32</td><td>Signed 32 bit integer</td></tr>\n",
      "  <tr><td>sitkUInt64</td><td>Unsigned 64 bit integer</td></tr>\n",
      "  <tr><td>sitkInt64</td><td>Signed 64 bit integer</td></tr>\n",
      "  <tr><td>sitkFloat32</td><td>32 bit float</td></tr>\n",
      "  <tr><td>sitkFloat64</td><td>64 bit float</td></tr>\n",
      "  <tr><td>sitkComplexFloat32</td><td>complex number of 32 bit float</td></tr>\n",
      "  <tr><td>sitkComplexFloat64</td><td>complex number of 64 bit float</td></tr>\n",
      "  <tr><td>sitkVectorUInt8</td><td>Multi-component of unsigned 8 bit integer</td></tr>\n",
      "  <tr><td>sitkVectorInt8</td><td>Multi-component of signed 8 bit integer</td></tr>\n",
      "  <tr><td>sitkVectorUInt16</td><td>Multi-component of unsigned 16 bit integer</td></tr>\n",
      "  <tr><td>sitkVectorInt16</td><td>Multi-component of signed 16 bit integer</td></tr>\n",
      "  <tr><td>sitkVectorUInt32</td><td>Multi-component of unsigned 32 bit integer</td></tr>\n",
      "  <tr><td>sitkVectorInt32</td><td>Multi-component of signed 32 bit integer</td></tr>\n",
      "  <tr><td>sitkVectorUInt64</td><td>Multi-component of unsigned 64 bit integer</td></tr>\n",
      "  <tr><td>sitkVectorInt64</td><td>Multi-component of signed 64 bit integer</td></tr>\n",
      "  <tr><td>sitkVectorFloat32</td><td>Multi-component of 32 bit float</td></tr>\n",
      "  <tr><td>sitkVectorFloat64</td><td>Multi-component of 64 bit float</td></tr>\n",
      "  <tr><td>sitkLabelUInt8</td><td>RLE label of unsigned 8 bit integers</td></tr>\n",
      "  <tr><td>sitkLabelUInt16</td><td>RLE label of unsigned 16 bit integers</td></tr>\n",
      "  <tr><td>sitkLabelUInt32</td><td>RLE label of unsigned 32 bit integers</td></tr>\n",
      "  <tr><td>sitkLabelUInt64</td><td>RLE label of unsigned 64 bit integers</td></tr>\n",
      "</table>\n",
      "\n",
      "There is also `sitkUnknown`, which is used for undefined or erroneous pixel ID's. It has a value of -1.\n",
      "\n",
      "The 64-bit integer types are not available on all distributions. When not available the value is `sitkUnknown`.\n"
     ]
    },
    {
     "cell_type": "markdown",
     "metadata": {},
     "source": [
      "### More Information about the Image class be obtained in the Docstring\n",
      "\n",
      "\n",
      "SimpleITK classes and functions have the Docstrings derived from the C++ definitions and the Doxygen documentation. "
     ]
    },
    {
     "cell_type": "code",
     "collapsed": false,
     "input": [
      "help(image)"
     ],
     "language": "python",
     "metadata": {},
     "outputs": [
      {
       "output_type": "stream",
       "stream": "stdout",
       "text": [
        "Help on Image in module SimpleITK.SimpleITK object:\n",
        "\n",
        "class Image(__builtin__.object)\n",
        " |  The main Image class for SimpleITK.\n",
        " |  \n",
        " |  C++ includes: sitkImage.h\n",
        " |  \n",
        " |  Methods defined here:\n",
        " |  \n",
        " |  CopyInformation(self, *args, **kwargs)\n",
        " |      CopyInformation(Image self, Image srcImage)\n",
        " |      \n",
        " |      Copy common meta-data from an image to this one.\n",
        " |      \n",
        " |      \n",
        " |      Copies the Origin, Spacing, and Direction from the source image to\n",
        " |      this image.\n",
        " |      \n",
        " |      It is required for the source Image's dimension and size to match, this image's attributes, otherwise an\n",
        " |      exception will be generated.\n",
        " |  \n",
        " |  GetDepth(self)\n",
        " |      GetDepth(Image self) -> unsigned int\n",
        " |  \n",
        " |  GetDimension(self)\n",
        " |      GetDimension(Image self) -> unsigned int\n",
        " |  \n",
        " |  GetDirection(self)\n",
        " |      GetDirection(Image self) -> VectorDouble\n",
        " |  \n",
        " |  GetHeight(self)\n",
        " |      GetHeight(Image self) -> unsigned int\n",
        " |  \n",
        " |  GetITKBase(self, *args)\n",
        " |      GetITKBase(Image self) -> itk::DataObject\n",
        " |      GetITKBase(Image self) -> itk::DataObject const *\n",
        " |  \n",
        " |  GetMetaData(self, *args, **kwargs)\n",
        " |      GetMetaData(Image self, std::string const & key) -> std::string\n",
        " |      \n",
        " |      Get the value of a meta-data dictionary entry as a string.\n",
        " |      \n",
        " |      \n",
        " |      If the key is not in the dictionary then an exception is thrown.\n",
        " |      \n",
        " |      string types in the dictionary are returned as their native strings.\n",
        " |      Other types are printed to string before returning.\n",
        " |  \n",
        " |  GetMetaDataKeys(self)\n",
        " |      GetMetaDataKeys(Image self) -> VectorString\n",
        " |      \n",
        " |      get a vector of keys in from the meta-data dictionary\n",
        " |      \n",
        " |      \n",
        " |      Returns a vector of keys to the key/value entries in the image's meta-\n",
        " |      data dictionary. Iterate through with these keys to get the values.\n",
        " |  \n",
        " |  GetNumberOfComponentsPerPixel(self)\n",
        " |      GetNumberOfComponentsPerPixel(Image self) -> unsigned int\n",
        " |      \n",
        " |      Get the number of components for each pixel.\n",
        " |      \n",
        " |      \n",
        " |      For scalar images this methods returns 1. For vector images the number\n",
        " |      of components for each pixel is returned.\n",
        " |  \n",
        " |  GetOrigin(self)\n",
        " |      GetOrigin(Image self) -> VectorDouble\n",
        " |  \n",
        " |  GetPixel(self, *idx)\n",
        " |      Returns the value of a pixel.\n",
        " |      \n",
        " |      This method takes 2 parameters in 2D: the x and y index,\n",
        " |      and 3 parameters in 3D: the x, y and z index.\n",
        " |  \n",
        " |  GetPixelAsComplexFloat64(self, *args, **kwargs)\n",
        " |      GetPixelAsComplexFloat64(Image self, VectorUInt32 idx) -> std::complex< double >\n",
        " |  \n",
        " |  GetPixelID(self)\n",
        " |      GetPixelID(Image self) -> itk::simple::PixelIDValueEnum\n",
        " |  \n",
        " |  GetPixelIDTypeAsString(self)\n",
        " |      GetPixelIDTypeAsString(Image self) -> std::string\n",
        " |  \n",
        " |  GetPixelIDValue(self)\n",
        " |      GetPixelIDValue(Image self) -> itk::simple::PixelIDValueType\n",
        " |  \n",
        " |  GetSize(self)\n",
        " |      GetSize(Image self) -> VectorUInt32\n",
        " |  \n",
        " |  GetSpacing(self)\n",
        " |      GetSpacing(Image self) -> VectorDouble\n",
        " |  \n",
        " |  GetWidth(self)\n",
        " |      GetWidth(Image self) -> unsigned int\n",
        " |  \n",
        " |  HasMetaDataKey(self, *args, **kwargs)\n",
        " |      HasMetaDataKey(Image self, std::string const & key) -> bool\n",
        " |      \n",
        " |      Query the meta-data dictionary for the existence of a key.\n",
        " |  \n",
        " |  SetDirection(self, *args, **kwargs)\n",
        " |      SetDirection(Image self, VectorDouble direction)\n",
        " |  \n",
        " |  SetOrigin(self, *args, **kwargs)\n",
        " |      SetOrigin(Image self, VectorDouble origin)\n",
        " |  \n",
        " |  SetPixel(self, *args)\n",
        " |      Sets the value of a pixel.\n",
        " |      \n",
        " |      This method takes 3 parameters in 2D: the x and y index then the value,\n",
        " |      and 4 parameters in 3D: the x, y and z index then the value.\n",
        " |  \n",
        " |  SetPixelAsComplexFloat64(self, *args, **kwargs)\n",
        " |      SetPixelAsComplexFloat64(Image self, VectorUInt32 idx, std::complex< double > const v)\n",
        " |  \n",
        " |  SetSpacing(self, *args, **kwargs)\n",
        " |      SetSpacing(Image self, VectorDouble spacing)\n",
        " |  \n",
        " |  TransformContinuousIndexToPhysicalPoint(self, *args, **kwargs)\n",
        " |      TransformContinuousIndexToPhysicalPoint(Image self, VectorDouble index) -> VectorDouble\n",
        " |      \n",
        " |      Transform continuous index to physical point\n",
        " |  \n",
        " |  TransformIndexToPhysicalPoint(self, *args, **kwargs)\n",
        " |      TransformIndexToPhysicalPoint(Image self, VectorInt64 index) -> VectorDouble\n",
        " |      \n",
        " |      Transform index to physical point\n",
        " |  \n",
        " |  TransformPhysicalPointToContinuousIndex(self, *args, **kwargs)\n",
        " |      TransformPhysicalPointToContinuousIndex(Image self, VectorDouble point) -> VectorDouble\n",
        " |      \n",
        " |      Transform physical point to continuous index\n",
        " |  \n",
        " |  TransformPhysicalPointToIndex(self, *args, **kwargs)\n",
        " |      TransformPhysicalPointToIndex(Image self, VectorDouble point) -> VectorInt64\n",
        " |      \n",
        " |      Transform physical point to index\n",
        " |  \n",
        " |  __GetPixelAsComplexFloat32__(self, *args, **kwargs)\n",
        " |      __GetPixelAsComplexFloat32__(Image self, VectorUInt32 idx) -> std::complex< float >\n",
        " |  \n",
        " |  __GetPixelAsDouble__(self, *args, **kwargs)\n",
        " |      __GetPixelAsDouble__(Image self, VectorUInt32 idx) -> double\n",
        " |  \n",
        " |  __GetPixelAsFloat__(self, *args, **kwargs)\n",
        " |      __GetPixelAsFloat__(Image self, VectorUInt32 idx) -> float\n",
        " |  \n",
        " |  __GetPixelAsInt16__(self, *args, **kwargs)\n",
        " |      __GetPixelAsInt16__(Image self, VectorUInt32 idx) -> int16_t\n",
        " |  \n",
        " |  __GetPixelAsInt32__(self, *args, **kwargs)\n",
        " |      __GetPixelAsInt32__(Image self, VectorUInt32 idx) -> int32_t\n",
        " |  \n",
        " |  __GetPixelAsInt64__(self, *args, **kwargs)\n",
        " |      __GetPixelAsInt64__(Image self, VectorUInt32 idx) -> int64_t\n",
        " |  \n",
        " |  __GetPixelAsInt8__(self, *args, **kwargs)\n",
        " |      __GetPixelAsInt8__(Image self, VectorUInt32 idx) -> int8_t\n",
        " |  \n",
        " |  __GetPixelAsUInt16__(self, *args, **kwargs)\n",
        " |      __GetPixelAsUInt16__(Image self, VectorUInt32 idx) -> uint16_t\n",
        " |  \n",
        " |  __GetPixelAsUInt32__(self, *args, **kwargs)\n",
        " |      __GetPixelAsUInt32__(Image self, VectorUInt32 idx) -> uint32_t\n",
        " |  \n",
        " |  __GetPixelAsUInt64__(self, *args, **kwargs)\n",
        " |      __GetPixelAsUInt64__(Image self, VectorUInt32 idx) -> uint64_t\n",
        " |  \n",
        " |  __GetPixelAsUInt8__(self, *args, **kwargs)\n",
        " |      __GetPixelAsUInt8__(Image self, VectorUInt32 idx) -> uint8_t\n",
        " |  \n",
        " |  __GetPixelAsVectorFloat32__(self, *args, **kwargs)\n",
        " |      __GetPixelAsVectorFloat32__(Image self, VectorUInt32 idx) -> VectorFloat\n",
        " |  \n",
        " |  __GetPixelAsVectorFloat64__(self, *args, **kwargs)\n",
        " |      __GetPixelAsVectorFloat64__(Image self, VectorUInt32 idx) -> VectorDouble\n",
        " |  \n",
        " |  __GetPixelAsVectorInt16__(self, *args, **kwargs)\n",
        " |      __GetPixelAsVectorInt16__(Image self, VectorUInt32 idx) -> VectorInt16\n",
        " |  \n",
        " |  __GetPixelAsVectorInt32__(self, *args, **kwargs)\n",
        " |      __GetPixelAsVectorInt32__(Image self, VectorUInt32 idx) -> VectorInt32\n",
        " |  \n",
        " |  __GetPixelAsVectorInt64__(self, *args, **kwargs)\n",
        " |      __GetPixelAsVectorInt64__(Image self, VectorUInt32 idx) -> VectorInt64\n",
        " |  \n",
        " |  __GetPixelAsVectorInt8__(self, *args, **kwargs)\n",
        " |      __GetPixelAsVectorInt8__(Image self, VectorUInt32 idx) -> VectorInt8\n",
        " |  \n",
        " |  __GetPixelAsVectorUInt16__(self, *args, **kwargs)\n",
        " |      __GetPixelAsVectorUInt16__(Image self, VectorUInt32 idx) -> VectorUInt16\n",
        " |  \n",
        " |  __GetPixelAsVectorUInt32__(self, *args, **kwargs)\n",
        " |      __GetPixelAsVectorUInt32__(Image self, VectorUInt32 idx) -> VectorUInt32\n",
        " |  \n",
        " |  __GetPixelAsVectorUInt64__(self, *args, **kwargs)\n",
        " |      __GetPixelAsVectorUInt64__(Image self, VectorUInt32 idx) -> VectorUInt64\n",
        " |  \n",
        " |  __GetPixelAsVectorUInt8__(self, *args, **kwargs)\n",
        " |      __GetPixelAsVectorUInt8__(Image self, VectorUInt32 idx) -> VectorUInt8\n",
        " |  \n",
        " |  __SetPixelAsComplexFloat32__(self, *args, **kwargs)\n",
        " |      __SetPixelAsComplexFloat32__(Image self, VectorUInt32 idx, std::complex< float > const v)\n",
        " |  \n",
        " |  __SetPixelAsDouble__(self, *args, **kwargs)\n",
        " |      __SetPixelAsDouble__(Image self, VectorUInt32 idx, double v)\n",
        " |  \n",
        " |  __SetPixelAsFloat__(self, *args, **kwargs)\n",
        " |      __SetPixelAsFloat__(Image self, VectorUInt32 idx, float v)\n",
        " |  \n",
        " |  __SetPixelAsInt16__(self, *args, **kwargs)\n",
        " |      __SetPixelAsInt16__(Image self, VectorUInt32 idx, int16_t v)\n",
        " |  \n",
        " |  __SetPixelAsInt32__(self, *args, **kwargs)\n",
        " |      __SetPixelAsInt32__(Image self, VectorUInt32 idx, int32_t v)\n",
        " |  \n",
        " |  __SetPixelAsInt64__(self, *args, **kwargs)\n",
        " |      __SetPixelAsInt64__(Image self, VectorUInt32 idx, int64_t v)\n",
        " |  \n",
        " |  __SetPixelAsInt8__(self, *args, **kwargs)\n",
        " |      __SetPixelAsInt8__(Image self, VectorUInt32 idx, int8_t v)\n",
        " |  \n",
        " |  __SetPixelAsUInt16__(self, *args, **kwargs)\n",
        " |      __SetPixelAsUInt16__(Image self, VectorUInt32 idx, uint16_t v)\n",
        " |  \n",
        " |  __SetPixelAsUInt32__(self, *args, **kwargs)\n",
        " |      __SetPixelAsUInt32__(Image self, VectorUInt32 idx, uint32_t v)\n",
        " |  \n",
        " |  __SetPixelAsUInt64__(self, *args, **kwargs)\n",
        " |      __SetPixelAsUInt64__(Image self, VectorUInt32 idx, uint64_t v)\n",
        " |  \n",
        " |  __SetPixelAsUInt8__(self, *args, **kwargs)\n",
        " |      __SetPixelAsUInt8__(Image self, VectorUInt32 idx, uint8_t v)\n",
        " |  \n",
        " |  __SetPixelAsVectorFloat32__(self, *args, **kwargs)\n",
        " |      __SetPixelAsVectorFloat32__(Image self, VectorUInt32 idx, VectorFloat v)\n",
        " |  \n",
        " |  __SetPixelAsVectorFloat64__(self, *args, **kwargs)\n",
        " |      __SetPixelAsVectorFloat64__(Image self, VectorUInt32 idx, VectorDouble v)\n",
        " |  \n",
        " |  __SetPixelAsVectorInt16__(self, *args, **kwargs)\n",
        " |      __SetPixelAsVectorInt16__(Image self, VectorUInt32 idx, VectorInt16 v)\n",
        " |  \n",
        " |  __SetPixelAsVectorInt32__(self, *args, **kwargs)\n",
        " |      __SetPixelAsVectorInt32__(Image self, VectorUInt32 idx, VectorInt32 v)\n",
        " |  \n",
        " |  __SetPixelAsVectorInt64__(self, *args, **kwargs)\n",
        " |      __SetPixelAsVectorInt64__(Image self, VectorUInt32 idx, VectorInt64 v)\n",
        " |  \n",
        " |  __SetPixelAsVectorInt8__(self, *args, **kwargs)\n",
        " |      __SetPixelAsVectorInt8__(Image self, VectorUInt32 idx, VectorInt8 v)\n",
        " |  \n",
        " |  __SetPixelAsVectorUInt16__(self, *args, **kwargs)\n",
        " |      __SetPixelAsVectorUInt16__(Image self, VectorUInt32 idx, VectorUInt16 v)\n",
        " |  \n",
        " |  __SetPixelAsVectorUInt32__(self, *args, **kwargs)\n",
        " |      __SetPixelAsVectorUInt32__(Image self, VectorUInt32 idx, VectorUInt32 v)\n",
        " |  \n",
        " |  __SetPixelAsVectorUInt64__(self, *args, **kwargs)\n",
        " |      __SetPixelAsVectorUInt64__(Image self, VectorUInt32 idx, VectorUInt64 v)\n",
        " |  \n",
        " |  __SetPixelAsVectorUInt8__(self, *args, **kwargs)\n",
        " |      __SetPixelAsVectorUInt8__(Image self, VectorUInt32 idx, VectorUInt8 v)\n",
        " |  \n",
        " |  __abs__(self)\n",
        " |  \n",
        " |  __add__(self, other)\n",
        " |  \n",
        " |  __and__(self, other)\n",
        " |  \n",
        " |  __del__ lambda self\n",
        " |  \n",
        " |  __div__(self, other)\n",
        " |  \n",
        " |  __eq__(self, other)\n",
        " |  \n",
        " |  __floordiv__(self, other)\n",
        " |  \n",
        " |  __ge__(self, other)\n",
        " |  \n",
        " |  __getattr__ lambda self, name\n",
        " |  \n",
        " |  __getitem__(self, idx)\n",
        " |      Get an pixel value or a sliced image.\n",
        " |      \n",
        " |      This operator implements basic indexing where idx is\n",
        " |      arguments or a squence of integers the same dimension as\n",
        " |      the image. The result will be a pixel value from that\n",
        " |      index.\n",
        " |      \n",
        " |      Multi-dimension extended slice based indexing is also\n",
        " |      implemented. The return is a copy of a new image. The\n",
        " |      standard sliced based indices are supported including\n",
        " |      negative indices, to indicate location relative to the\n",
        " |      end, along with negative step sized to indicate reversing\n",
        " |      of direction.\n",
        " |      \n",
        " |      If the length of idx is less than the number of dimension\n",
        " |      of the image it will be padded with the defaults slice\n",
        " |      \":\".\n",
        " |      \n",
        " |      A 2D image can be extracted from a 3D image by providing\n",
        " |      one argument being an integer instead of a slice.\n",
        " |  \n",
        " |  __gt__(self, other)\n",
        " |  \n",
        " |  __iadd__(self, other)\n",
        " |  \n",
        " |  __init__(self, *args)\n",
        " |      __init__(itk::simple::Image self) -> Image\n",
        " |      __init__(itk::simple::Image self, Image img) -> Image\n",
        " |      __init__(itk::simple::Image self, unsigned int width, unsigned int height, itk::simple::PixelIDValueEnum valueEnum) -> Image\n",
        " |      __init__(itk::simple::Image self, unsigned int width, unsigned int height, unsigned int depth, itk::simple::PixelIDValueEnum valueEnum) -> Image\n",
        " |      __init__(itk::simple::Image self, VectorUInt32 size, itk::simple::PixelIDValueEnum valueEnum, unsigned int numberOfComponents=0) -> Image\n",
        " |  \n",
        " |  __invert__(self)\n",
        " |  \n",
        " |  __iter__(self)\n",
        " |  \n",
        " |  __le__(self, other)\n",
        " |  \n",
        " |  __len__(self)\n",
        " |  \n",
        " |  __lt__(self, other)\n",
        " |  \n",
        " |  __mod__(self, other)\n",
        " |  \n",
        " |  __mul__(self, other)\n",
        " |  \n",
        " |  __ne__(self, other)\n",
        " |  \n",
        " |  __neg__(self)\n",
        " |  \n",
        " |  __or__(self, other)\n",
        " |  \n",
        " |  __pos__(self)\n",
        " |  \n",
        " |  __pow__(self, other)\n",
        " |  \n",
        " |  __radd__(self, other)\n",
        " |  \n",
        " |  __rand__(self, other)\n",
        " |  \n",
        " |  __rdiv__(self, other)\n",
        " |  \n",
        " |  __repr__ = _swig_repr(self)\n",
        " |  \n",
        " |  __rfloordiv__(self, other)\n",
        " |  \n",
        " |  __rmul__(self, other)\n",
        " |  \n",
        " |  __ror__(self, other)\n",
        " |  \n",
        " |  __rpow__(self, other)\n",
        " |  \n",
        " |  __rsub__(self, other)\n",
        " |  \n",
        " |  __rtruediv__(self, other)\n",
        " |  \n",
        " |  __rxor__(self, other)\n",
        " |  \n",
        " |  __setattr__ lambda self, name, value\n",
        " |  \n",
        " |  __setitem__(self, idx, value)\n",
        " |      Sets the pixel value at index idx to value.\n",
        " |      \n",
        " |      The dimension of idx should match that of the image.\n",
        " |  \n",
        " |  __str__(self)\n",
        " |      __str__(Image self) -> std::string\n",
        " |  \n",
        " |  __sub__(self, other)\n",
        " |  \n",
        " |  __truediv__(self, other)\n",
        " |  \n",
        " |  __xor__(self, other)\n",
        " |  \n",
        " |  ----------------------------------------------------------------------\n",
        " |  Data descriptors defined here:\n",
        " |  \n",
        " |  __dict__\n",
        " |      dictionary for instance variables (if defined)\n",
        " |  \n",
        " |  __weakref__\n",
        " |      list of weak references to the object (if defined)\n",
        " |  \n",
        " |  ----------------------------------------------------------------------\n",
        " |  Data and other attributes defined here:\n",
        " |  \n",
        " |  __swig_destroy__ = <built-in function delete_Image>\n",
        " |      delete_Image(Image self)\n",
        " |  \n",
        " |  __swig_getmethods__ = {}\n",
        " |  \n",
        " |  __swig_setmethods__ = {}\n",
        "\n"
       ]
      }
     ],
     "prompt_number": 4
    },
    {
     "cell_type": "markdown",
     "metadata": {},
     "source": [
      "##Accessing Attributes\n",
      "\n",
      "If you are familliar with ITK, then these methods will follow your expectations:"
     ]
    },
    {
     "cell_type": "code",
     "collapsed": false,
     "input": [
      "print image.GetSize()\n",
      "print image.GetOrigin()\n",
      "print image.GetSpacing()\n",
      "print image.GetDirection()\n",
      "print image.GetNumberOfComponentsPerPixel()"
     ],
     "language": "python",
     "metadata": {},
     "outputs": [
      {
       "output_type": "stream",
       "stream": "stdout",
       "text": [
        "(256, 128, 64)\n",
        "(0.0, 0.0, 0.0)\n",
        "(1.0, 1.0, 1.0)\n",
        "(1.0, 0.0, 0.0, 0.0, 1.0, 0.0, 0.0, 0.0, 1.0)\n",
        "1\n"
       ]
      }
     ],
     "prompt_number": 3
    },
    {
     "cell_type": "markdown",
     "metadata": {},
     "source": [
      "Note: The starting index of a SimpleITK Image is always 0. If the output of an ITK filter has non-zero starting index, then the index will be set to 0, and the origin adjusted accordingly.\n",
      "\n",
      "The size of the image's dimensions have explicit accessors:"
     ]
    },
    {
     "cell_type": "code",
     "collapsed": false,
     "input": [
      "print image.GetWidth()\n",
      "print image.GetHeight()\n",
      "print image.GetDepth()"
     ],
     "language": "python",
     "metadata": {},
     "outputs": [
      {
       "output_type": "stream",
       "stream": "stdout",
       "text": [
        "256\n",
        "128\n",
        "64\n"
       ]
      }
     ],
     "prompt_number": 6
    },
    {
     "cell_type": "markdown",
     "metadata": {},
     "source": [
      "Since the dimension  and pixel type of a SimpleITK image is determined at run-time accessors are needed. "
     ]
    },
    {
     "cell_type": "code",
     "collapsed": false,
     "input": [
      "print image.GetDimension()\n",
      "print image.GetPixelIDValue()\n",
      "print image.GetPixelIDTypeAsString()"
     ],
     "language": "python",
     "metadata": {},
     "outputs": [
      {
       "output_type": "stream",
       "stream": "stdout",
       "text": [
        "3\n",
        "2\n",
        "16-bit signed integer\n"
       ]
      }
     ],
     "prompt_number": 7
    },
    {
     "cell_type": "markdown",
     "metadata": {},
     "source": [
      "What is the depth of a 2D image?"
     ]
    },
    {
     "cell_type": "code",
     "collapsed": false,
     "input": [
      "print image_2D.GetSize()\n",
      "print image_2D.GetDepth()"
     ],
     "language": "python",
     "metadata": {},
     "outputs": [
      {
       "output_type": "stream",
       "stream": "stdout",
       "text": [
        "(32, 32)\n",
        "0\n"
       ]
      }
     ],
     "prompt_number": 8
    },
    {
     "cell_type": "markdown",
     "metadata": {},
     "source": [
      "What is the dimension and size of a Vector image?"
     ]
    },
    {
     "cell_type": "code",
     "collapsed": false,
     "input": [
      "print image_RGB.GetDimension()\n",
      "print image_RGB.GetSize()"
     ],
     "language": "python",
     "metadata": {},
     "outputs": [
      {
       "output_type": "stream",
       "stream": "stdout",
       "text": [
        "2\n",
        "(128, 128)\n"
       ]
      }
     ],
     "prompt_number": 9
    },
    {
     "cell_type": "code",
     "collapsed": false,
     "input": [
      "print image_RGB.GetNumberOfComponentsPerPixel()"
     ],
     "language": "python",
     "metadata": {},
     "outputs": [
      {
       "output_type": "stream",
       "stream": "stdout",
       "text": [
        "3\n"
       ]
      }
     ],
     "prompt_number": 10
    },
    {
     "cell_type": "markdown",
     "metadata": {},
     "source": [
      "For certain file types such as DICOM, additional information about the image is contained in the meta-data dicitonary."
     ]
    },
    {
     "cell_type": "code",
     "collapsed": false,
     "input": [
      "for key in image.GetMetaDataKeys():\n",
      "        print \"\\\"{0}\\\":\\\"{1}\\\"\".format(key, image.GetMetaData(key))"
     ],
     "language": "python",
     "metadata": {},
     "outputs": [],
     "prompt_number": 13
    },
    {
     "cell_type": "markdown",
     "metadata": {},
     "source": [
      "##Accessing Pixels\n",
      "\n",
      "There are the member functions ``GetPixel`` and ``SetPixel`` which provides an ITK-like interface for pixel access."
     ]
    },
    {
     "cell_type": "code",
     "collapsed": false,
     "input": [
      "help(image.GetPixel)"
     ],
     "language": "python",
     "metadata": {},
     "outputs": [
      {
       "output_type": "stream",
       "stream": "stdout",
       "text": [
        "Help on method GetPixel in module SimpleITK.SimpleITK:\n",
        "\n",
        "GetPixel(self, *idx) method of SimpleITK.SimpleITK.Image instance\n",
        "    Returns the value of a pixel.\n",
        "    \n",
        "    This method takes 2 parameters in 2D: the x and y index,\n",
        "    and 3 parameters in 3D: the x, y and z index.\n",
        "\n"
       ]
      }
     ],
     "prompt_number": 14
    },
    {
     "cell_type": "code",
     "collapsed": false,
     "input": [
      "print image.GetPixel(0, 0, 0)\n",
      "image.SetPixel(0, 0, 0, 1)\n",
      "print image.GetPixel(0, 0, 0)"
     ],
     "language": "python",
     "metadata": {},
     "outputs": [
      {
       "output_type": "stream",
       "stream": "stdout",
       "text": [
        "0\n",
        "1\n"
       ]
      }
     ],
     "prompt_number": 15
    },
    {
     "cell_type": "code",
     "collapsed": false,
     "input": [
      "print image[0,0,0]\n",
      "image[0,0,0] = 10\n",
      "print image[0,0,0]"
     ],
     "language": "python",
     "metadata": {},
     "outputs": [
      {
       "output_type": "stream",
       "stream": "stdout",
       "text": [
        "1\n",
        "10\n"
       ]
      }
     ],
     "prompt_number": 16
    },
    {
     "cell_type": "markdown",
     "metadata": {},
     "source": [
      "## Conversion between numpy and SimpleITK"
     ]
    },
    {
     "cell_type": "code",
     "collapsed": false,
     "input": [
      "nda = sitk.GetArrayFromImage(image)\n",
      "print nda"
     ],
     "language": "python",
     "metadata": {},
     "outputs": [
      {
       "output_type": "stream",
       "stream": "stdout",
       "text": [
        "[[[10  0  0 ...,  0  0  0]\n",
        "  [ 0  0  0 ...,  0  0  0]\n",
        "  [ 0  0  0 ...,  0  0  0]\n",
        "  ..., \n",
        "  [ 0  0  0 ...,  0  0  0]\n",
        "  [ 0  0  0 ...,  0  0  0]\n",
        "  [ 0  0  0 ...,  0  0  0]]\n",
        "\n",
        " [[ 0  0  0 ...,  0  0  0]\n",
        "  [ 0  0  0 ...,  0  0  0]\n",
        "  [ 0  0  0 ...,  0  0  0]\n",
        "  ..., \n",
        "  [ 0  0  0 ...,  0  0  0]\n",
        "  [ 0  0  0 ...,  0  0  0]\n",
        "  [ 0  0  0 ...,  0  0  0]]\n",
        "\n",
        " [[ 0  0  0 ...,  0  0  0]\n",
        "  [ 0  0  0 ...,  0  0  0]\n",
        "  [ 0  0  0 ...,  0  0  0]\n",
        "  ..., \n",
        "  [ 0  0  0 ...,  0  0  0]\n",
        "  [ 0  0  0 ...,  0  0  0]\n",
        "  [ 0  0  0 ...,  0  0  0]]\n",
        "\n",
        " ..., \n",
        " [[ 0  0  0 ...,  0  0  0]\n",
        "  [ 0  0  0 ...,  0  0  0]\n",
        "  [ 0  0  0 ...,  0  0  0]\n",
        "  ..., \n",
        "  [ 0  0  0 ...,  0  0  0]\n",
        "  [ 0  0  0 ...,  0  0  0]\n",
        "  [ 0  0  0 ...,  0  0  0]]\n",
        "\n",
        " [[ 0  0  0 ...,  0  0  0]\n",
        "  [ 0  0  0 ...,  0  0  0]\n",
        "  [ 0  0  0 ...,  0  0  0]\n",
        "  ..., \n",
        "  [ 0  0  0 ...,  0  0  0]\n",
        "  [ 0  0  0 ...,  0  0  0]\n",
        "  [ 0  0  0 ...,  0  0  0]]\n",
        "\n",
        " [[ 0  0  0 ...,  0  0  0]\n",
        "  [ 0  0  0 ...,  0  0  0]\n",
        "  [ 0  0  0 ...,  0  0  0]\n",
        "  ..., \n",
        "  [ 0  0  0 ...,  0  0  0]\n",
        "  [ 0  0  0 ...,  0  0  0]\n",
        "  [ 0  0  0 ...,  0  0  0]]]\n"
       ]
      }
     ],
     "prompt_number": 17
    },
    {
     "cell_type": "code",
     "collapsed": false,
     "input": [
      "help(sitk.GetArrayFromImage)"
     ],
     "language": "python",
     "metadata": {},
     "outputs": [
      {
       "output_type": "stream",
       "stream": "stdout",
       "text": [
        "Help on function GetArrayFromImage in module SimpleITK.SimpleITK:\n",
        "\n",
        "GetArrayFromImage(image)\n",
        "    Get a numpy array from a SimpleITK Image.\n",
        "\n"
       ]
      }
     ],
     "prompt_number": 18
    },
    {
     "cell_type": "code",
     "collapsed": false,
     "input": [
      "print nda.shape\n",
      "print nda.dtype"
     ],
     "language": "python",
     "metadata": {},
     "outputs": [
      {
       "output_type": "stream",
       "stream": "stdout",
       "text": [
        "(64L, 128L, 256L)\n",
        "int16\n"
       ]
      }
     ],
     "prompt_number": 22
    },
    {
     "cell_type": "code",
     "collapsed": false,
     "input": [
      "nda = sitk.GetArrayFromImage(image_RGB)\n",
      "img = sitk.GetImageFromArray(nda)\n",
      "img.GetSize()"
     ],
     "language": "python",
     "metadata": {},
     "outputs": [
      {
       "metadata": {},
       "output_type": "pyout",
       "prompt_number": 30,
       "text": [
        "(3, 128, 128)"
       ]
      }
     ],
     "prompt_number": 30
    },
    {
     "cell_type": "code",
     "collapsed": false,
     "input": [
      "help(sitk.GetImageFromArray)"
     ],
     "language": "python",
     "metadata": {},
     "outputs": [
      {
       "output_type": "stream",
       "stream": "stdout",
       "text": [
        "Help on function GetImageFromArray in module SimpleITK.SimpleITK:\n",
        "\n",
        "GetImageFromArray(arr, isVector=False)\n",
        "    Get a SimpleITK Image from a numpy array. If isVector is True, then a 3D array will be treaded as a 2D vector image, otherwise it will be treaded as a 3D image\n",
        "\n"
       ]
      }
     ],
     "prompt_number": 24
    },
    {
     "cell_type": "code",
     "collapsed": false,
     "input": [
      "img = sitk.GetImageFromArray(nda, isVector=True)\n",
      "print img"
     ],
     "language": "python",
     "metadata": {},
     "outputs": [
      {
       "output_type": "stream",
       "stream": "stdout",
       "text": [
        "VectorImage (000000000A90F2A0)\n",
        "  RTTI typeinfo:   class itk::VectorImage<unsigned char,2>\n",
        "  Reference Count: 1\n",
        "  Modified Time: 529\n",
        "  Debug: Off\n",
        "  Object Name: \n",
        "  Observers: \n",
        "    none\n",
        "  Source: (none)\n",
        "  Source output name: (none)\n",
        "  Release Data: Off\n",
        "  Data Released: False\n",
        "  Global Release Data: Off\n",
        "  PipelineMTime: 0\n",
        "  UpdateMTime: 0\n",
        "  RealTimeStamp: 0 seconds \n",
        "  LargestPossibleRegion: \n",
        "    Dimension: 2\n",
        "    Index: [0, 0]\n",
        "    Size: [128, 128]\n",
        "  BufferedRegion: \n",
        "    Dimension: 2\n",
        "    Index: [0, 0]\n",
        "    Size: [128, 128]\n",
        "  RequestedRegion: \n",
        "    Dimension: 2\n",
        "    Index: [0, 0]\n",
        "    Size: [128, 128]\n",
        "  Spacing: [1, 1]\n",
        "  Origin: [0, 0]\n",
        "  Direction: \n",
        "1 0\n",
        "0 1\n",
        "\n",
        "  IndexToPointMatrix: \n",
        "1 0\n",
        "0 1\n",
        "\n",
        "  PointToIndexMatrix: \n",
        "1 0\n",
        "0 1\n",
        "\n",
        "  Inverse Direction: \n",
        "1 0\n",
        "0 1\n",
        "\n",
        "  VectorLength: 3\n",
        "  PixelContainer: \n",
        "    ImportImageContainer (0000000002723730)\n",
        "      RTTI typeinfo:   class itk::ImportImageContainer<unsigned __int64,unsigned char>\n",
        "      Reference Count: 1\n",
        "      Modified Time: 530\n",
        "      Debug: Off\n",
        "      Object Name: \n",
        "      Observers: \n",
        "        none\n",
        "      Pointer: 000000000AC7AA50\n",
        "      Container manages memory: true\n",
        "      Size: 49152\n",
        "      Capacity: 49152\n",
        "\n"
       ]
      }
     ],
     "prompt_number": 31
    },
    {
     "cell_type": "markdown",
     "metadata": {},
     "source": [
      "##The order of index and dimensions need careful attention during conversion\n",
      "\n",
      "ITK's Image class does not have a bracket operator. It has a GetPixel which takes an ITK Index object as an argument, which is an array ordered as ``(x,y,z)``. This is the convention that SimpleITK's Image class uses for the GetPixel method as well.\n",
      "\n",
      "While in numpy, an array is indexed in the opposite order ``(z,y,x)``."
     ]
    },
    {
     "cell_type": "code",
     "collapsed": false,
     "input": [
      "print img.GetSize()\n",
      "print nda.shape\n",
      "print nda.shape[::-1]"
     ],
     "language": "python",
     "metadata": {},
     "outputs": [
      {
       "output_type": "stream",
       "stream": "stdout",
       "text": [
        "(128, 128)\n",
        "(128L, 128L, 3L)\n",
        "(3L, 128L, 128L)\n"
       ]
      }
     ],
     "prompt_number": 32
    },
    {
     "cell_type": "markdown",
     "metadata": {},
     "source": [
      "\n",
      "### Are we still dealing with Image, because I haven't seen one yet...\n",
      "\n",
      "While SimpleITK does not do visualization, it does contain a built in ``Show`` method. This function writes the image out to disk and then launches a program for visualization. By default it is configured to use ImageJ, because it is readily supports all the image types which SimpleITK has and load very quickly. However, it's easily customizable by setting enviroment variables."
     ]
    },
    {
     "cell_type": "code",
     "collapsed": false,
     "input": [
      "sitk.Show(image)"
     ],
     "language": "python",
     "metadata": {},
     "outputs": [
      {
       "ename": "RuntimeError",
       "evalue": "Exception thrown in SimpleITK Show: ..\\..\\..\\..\\..\\SimpleITK\\Code\\IO\\src\\sitkShow.cxx:441:\nsitk::ERROR: Process returned 1.",
       "output_type": "pyerr",
       "traceback": [
        "\u001b[1;31m---------------------------------------------------------------------------\u001b[0m\n\u001b[1;31mRuntimeError\u001b[0m                              Traceback (most recent call last)",
        "\u001b[1;32m<ipython-input-34-dba878fed013>\u001b[0m in \u001b[0;36m<module>\u001b[1;34m()\u001b[0m\n\u001b[1;32m----> 1\u001b[1;33m \u001b[0msitk\u001b[0m\u001b[1;33m.\u001b[0m\u001b[0mShow\u001b[0m\u001b[1;33m(\u001b[0m\u001b[0mimage\u001b[0m\u001b[1;33m)\u001b[0m\u001b[1;33m\u001b[0m\u001b[0m\n\u001b[0m",
        "\u001b[1;32mC:\\Users\\Wenzhe\\AppData\\Local\\Enthought\\Canopy\\User\\lib\\site-packages\\simpleitk-0.8.0-py2.7-win-amd64.egg\\SimpleITK\\SimpleITK.pyc\u001b[0m in \u001b[0;36mShow\u001b[1;34m(*args, **kwargs)\u001b[0m\n\u001b[0;32m   4806\u001b[0m \u001b[1;33m\u001b[0m\u001b[0m\n\u001b[0;32m   4807\u001b[0m     \"\"\"\n\u001b[1;32m-> 4808\u001b[1;33m   \u001b[1;32mreturn\u001b[0m \u001b[0m_SimpleITK\u001b[0m\u001b[1;33m.\u001b[0m\u001b[0mShow\u001b[0m\u001b[1;33m(\u001b[0m\u001b[1;33m*\u001b[0m\u001b[0margs\u001b[0m\u001b[1;33m,\u001b[0m \u001b[1;33m**\u001b[0m\u001b[0mkwargs\u001b[0m\u001b[1;33m)\u001b[0m\u001b[1;33m\u001b[0m\u001b[0m\n\u001b[0m\u001b[0;32m   4809\u001b[0m \u001b[1;32mclass\u001b[0m \u001b[0mImageFileWriter\u001b[0m\u001b[1;33m(\u001b[0m\u001b[0mProcessObject\u001b[0m\u001b[1;33m)\u001b[0m\u001b[1;33m:\u001b[0m\u001b[1;33m\u001b[0m\u001b[0m\n\u001b[0;32m   4810\u001b[0m     \"\"\"\n",
        "\u001b[1;31mRuntimeError\u001b[0m: Exception thrown in SimpleITK Show: ..\\..\\..\\..\\..\\SimpleITK\\Code\\IO\\src\\sitkShow.cxx:441:\nsitk::ERROR: Process returned 1."
       ]
      }
     ],
     "prompt_number": 34
    },
    {
     "cell_type": "code",
     "collapsed": false,
     "input": [
      "sitk.Show?"
     ],
     "language": "python",
     "metadata": {},
     "outputs": [],
     "prompt_number": 35
    },
    {
     "cell_type": "markdown",
     "metadata": {},
     "source": [
      "By converting into a numpy array, matplotlob can be used for visualization for integration into the scientifc python enviroment."
     ]
    },
    {
     "cell_type": "code",
     "collapsed": false,
     "input": [
      "%matplotlib inline\n",
      "import matplotlib.pyplot as plt"
     ],
     "language": "python",
     "metadata": {},
     "outputs": [],
     "prompt_number": 36
    },
    {
     "cell_type": "code",
     "collapsed": false,
     "input": [
      "z = 0\n",
      "slice = sitk.GetArrayFromImage(image)[z,:,:]\n",
      "plt.imshow(slice)"
     ],
     "language": "python",
     "metadata": {},
     "outputs": [
      {
       "metadata": {},
       "output_type": "pyout",
       "prompt_number": 37,
       "text": [
        "<matplotlib.image.AxesImage at 0xaf43f98>"
       ]
      },
      {
       "metadata": {},
       "output_type": "display_data",
       "png": "[encoded data removed]",
       "text": [
        "<matplotlib.figure.Figure at 0xae50ac8>"
       ]
      }
     ],
     "prompt_number": 37
    }
   ],
   "metadata": {}
  }
 ]
}