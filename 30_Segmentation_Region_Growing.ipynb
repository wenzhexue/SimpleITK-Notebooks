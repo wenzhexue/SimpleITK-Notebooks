{
 "metadata": {
  "name": "",
  "signature": "sha256:3a9d5ca0e20181178ad8c702acc6986fddbe4861e4a12e1691d65c766778b879"
 },
 "nbformat": 3,
 "nbformat_minor": 0,
 "worksheets": [
  {
   "cells": [
    {
     "cell_type": "code",
     "collapsed": false,
     "input": [
      "import matplotlib.pyplot as plt\n",
      "%matplotlib inline\n",
      "import SimpleITK as sitk\n",
      "# Download data to work on\n",
      "from downloaddata import fetch_midas_data as fdata"
     ],
     "language": "python",
     "metadata": {},
     "outputs": [],
     "prompt_number": 1
    },
    {
     "cell_type": "code",
     "collapsed": false,
     "input": [
      "from myshow import myshow, myshow3d"
     ],
     "language": "python",
     "metadata": {},
     "outputs": [],
     "prompt_number": 2
    },
    {
     "cell_type": "code",
     "collapsed": false,
     "input": [
      "img_T1 = sitk.ReadImage(fdata(\"nac-hncma-atlas2013-Slicer4Version/Data/A1_grayT1.nrrd\"))\n",
      "img_T2 = sitk.ReadImage(fdata(\"nac-hncma-atlas2013-Slicer4Version/Data/A1_grayT2.nrrd\"))\n",
      "img_labels = sitk.ReadImage(fdata(\"nac-hncma-atlas2013-Slicer4Version/Data/hncma-atlas.nrrd\"))"
     ],
     "language": "python",
     "metadata": {},
     "outputs": [],
     "prompt_number": 3
    },
    {
     "cell_type": "code",
     "collapsed": false,
     "input": [
      "sitk.Show(img_T1)"
     ],
     "language": "python",
     "metadata": {},
     "outputs": [
      {
       "ename": "RuntimeError",
       "evalue": "Exception thrown in SimpleITK Show: ..\\..\\..\\..\\..\\SimpleITK\\Code\\IO\\src\\sitkShow.cxx:441:\nsitk::ERROR: Process returned 1.",
       "output_type": "pyerr",
       "traceback": [
        "\u001b[1;31m---------------------------------------------------------------------------\u001b[0m\n\u001b[1;31mRuntimeError\u001b[0m                              Traceback (most recent call last)",
        "\u001b[1;32m<ipython-input-6-911fe4ccb80e>\u001b[0m in \u001b[0;36m<module>\u001b[1;34m()\u001b[0m\n\u001b[1;32m----> 1\u001b[1;33m \u001b[0msitk\u001b[0m\u001b[1;33m.\u001b[0m\u001b[0mShow\u001b[0m\u001b[1;33m(\u001b[0m\u001b[0mimg_T1\u001b[0m\u001b[1;33m)\u001b[0m\u001b[1;33m\u001b[0m\u001b[0m\n\u001b[0m",
        "\u001b[1;32mC:\\Users\\Wenzhe\\AppData\\Local\\Enthought\\Canopy\\User\\lib\\site-packages\\simpleitk-0.8.0-py2.7-win-amd64.egg\\SimpleITK\\SimpleITK.pyc\u001b[0m in \u001b[0;36mShow\u001b[1;34m(*args, **kwargs)\u001b[0m\n\u001b[0;32m   4806\u001b[0m \u001b[1;33m\u001b[0m\u001b[0m\n\u001b[0;32m   4807\u001b[0m     \"\"\"\n\u001b[1;32m-> 4808\u001b[1;33m   \u001b[1;32mreturn\u001b[0m \u001b[0m_SimpleITK\u001b[0m\u001b[1;33m.\u001b[0m\u001b[0mShow\u001b[0m\u001b[1;33m(\u001b[0m\u001b[1;33m*\u001b[0m\u001b[0margs\u001b[0m\u001b[1;33m,\u001b[0m \u001b[1;33m**\u001b[0m\u001b[0mkwargs\u001b[0m\u001b[1;33m)\u001b[0m\u001b[1;33m\u001b[0m\u001b[0m\n\u001b[0m\u001b[0;32m   4809\u001b[0m \u001b[1;32mclass\u001b[0m \u001b[0mImageFileWriter\u001b[0m\u001b[1;33m(\u001b[0m\u001b[0mProcessObject\u001b[0m\u001b[1;33m)\u001b[0m\u001b[1;33m:\u001b[0m\u001b[1;33m\u001b[0m\u001b[0m\n\u001b[0;32m   4810\u001b[0m     \"\"\"\n",
        "\u001b[1;31mRuntimeError\u001b[0m: Exception thrown in SimpleITK Show: ..\\..\\..\\..\\..\\SimpleITK\\Code\\IO\\src\\sitkShow.cxx:441:\nsitk::ERROR: Process returned 1."
       ]
      }
     ],
     "prompt_number": 6
    },
    {
     "cell_type": "markdown",
     "metadata": {},
     "source": [
      "Lets find a point in one of the lateral ventricles to use as a seed for region growning."
     ]
    },
    {
     "cell_type": "code",
     "collapsed": false,
     "input": [
      "pt = (110, 120, 132)"
     ],
     "language": "python",
     "metadata": {},
     "outputs": [],
     "prompt_number": 5
    },
    {
     "cell_type": "code",
     "collapsed": false,
     "input": [
      "seg = sitk.Image(img_T1.GetSize(), sitk.sitkUInt8)\n",
      "seg.CopyInformation(img_T1)\n",
      "seg[pt] = 1\n",
      "seg = sitk.BinaryDilate(seg, 3)"
     ],
     "language": "python",
     "metadata": {},
     "outputs": [],
     "prompt_number": 6
    },
    {
     "cell_type": "code",
     "collapsed": false,
     "input": [
      "img_T1_255 = sitk.Cast(sitk.RescaleIntensity(img_T1), sitk.sitkUInt8)\n",
      "sitk.Show(sitk.LabelOverlay(img_T1_255, seg))"
     ],
     "language": "python",
     "metadata": {},
     "outputs": []
    },
    {
     "cell_type": "code",
     "collapsed": false,
     "input": [
      "sitk.ConnectedThreshold?"
     ],
     "language": "python",
     "metadata": {},
     "outputs": [],
     "prompt_number": 9
    },
    {
     "cell_type": "code",
     "collapsed": false,
     "input": [
      "seg = sitk.ConfidenceConnected(img_T1, [pt], numberOfIterations=0, multiplier=2)\n",
      "sitk.Show(sitk.LabelOverlay(img_T1_255, seg))"
     ],
     "language": "python",
     "metadata": {},
     "outputs": []
    },
    {
     "cell_type": "code",
     "collapsed": false,
     "input": [
      "sitk.VectorConfidenceConnected?"
     ],
     "language": "python",
     "metadata": {},
     "outputs": [],
     "prompt_number": null
    },
    {
     "cell_type": "code",
     "collapsed": false,
     "input": [
      "img_multi = sitk.Compose(img_T1, img_T2)\n",
      "seg = sitk.VectorConfidenceConnected(img_multi, [pt], numberOfIterations=2, multiplier=4.5)\n",
      "sitk.Show(sitk.LabelOverlay(img_T1_255, seg))"
     ],
     "language": "python",
     "metadata": {},
     "outputs": []
    },
    {
     "cell_type": "code",
     "collapsed": false,
     "input": [
      "size = img_multi.GetSize()\n",
      "myshow3d(sitk.LabelOverlay(img_T1_255,seg),yslices=range(50,size[1]-50,15), zslices=range(50,size[2]-50,15), dpi=30)"
     ],
     "language": "python",
     "metadata": {},
     "outputs": [],
     "prompt_number": null
    },
    {
     "cell_type": "code",
     "collapsed": false,
     "input": [
      "for m in (2.5, 3.0,\n",
      "          3.5, 4.0):\n",
      "    seg = sitk.VectorConfidenceConnected(img_multi, [pt], numberOfIterations=2, multiplier=m)\n",
      "    myshow3d(sitk.LabelOverlay(img_T1_255,seg),yslices=range(50,size[1]-50,15), zslices=range(50,size[2]-50,15), dpi=30, title=\"VectorConfidence multi=\"+str(m))"
     ],
     "language": "python",
     "metadata": {},
     "outputs": [],
     "prompt_number": null
    },
    {
     "cell_type": "code",
     "collapsed": false,
     "input": [
      "sitk.Show(sitk.LabelOverlay(img_T1_255, seg))\n",
      "sitk.Show(sitk.LaplacianRecursiveGaussian(img_T1,sigma=1.0))"
     ],
     "language": "python",
     "metadata": {},
     "outputs": [],
     "prompt_number": null
    },
    {
     "cell_type": "code",
     "collapsed": false,
     "input": [
      "components = (img_T1, img_T2, sitk.LaplacianRecursiveGaussian(img_T1, .5), sitk.LaplacianRecursiveGaussian(img_T1, .5))\n",
      "components = [sitk.Cast(img, sitk.sitkFloat32) for img in components]\n",
      "img_multi = sitk.Compose(components)"
     ],
     "language": "python",
     "metadata": {},
     "outputs": [],
     "prompt_number": null
    },
    {
     "cell_type": "code",
     "collapsed": false,
     "input": [],
     "language": "python",
     "metadata": {},
     "outputs": [],
     "prompt_number": null
    }
   ],
   "metadata": {}
  }
 ]
}