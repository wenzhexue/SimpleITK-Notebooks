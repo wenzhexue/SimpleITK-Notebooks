{
 "metadata": {
  "name": "",
  "signature": "sha256:0851ede3b86e97c3823488660c3ec00012115ad3efe0f33e45079c457228f8c1"
 },
 "nbformat": 3,
 "nbformat_minor": 0,
 "worksheets": [
  {
   "cells": [
    {
     "cell_type": "code",
     "collapsed": false,
     "input": [
      "from __future__ import print_function\n",
      "import matplotlib.pyplot as plt\n",
      "%matplotlib inline\n",
      "\n",
      "import SimpleITK as sitk\n",
      "print(sitk.Version())\n",
      "from myshow import myshow\n",
      "# Download data to work on\n",
      "from downloaddata import fetch_midas_data as fdata"
     ],
     "language": "python",
     "metadata": {
      "slideshow": {
       "slide_type": "-"
      }
     },
     "outputs": [
      {
       "output_type": "stream",
       "stream": "stdout",
       "text": [
        "SimpleITK Version: 0.8.0\n",
        "Compiled: Mar 13 2014 20:29:02\n",
        "\n"
       ]
      }
     ],
     "prompt_number": 1
    },
    {
     "cell_type": "code",
     "collapsed": false,
     "input": [
      "img = sitk.ReadImage(fdata(\"a_vm1108.png\"))\n",
      "myshow(img)"
     ],
     "language": "python",
     "metadata": {},
     "outputs": [],
     "prompt_number": null
    },
    {
     "cell_type": "code",
     "collapsed": false,
     "input": [
      "seeds = [[400,500], [1500,800]]\n",
      "seg = sitk.VectorConfidenceConnected(img, seedList=seeds, numberOfIterations=5, multiplier=7)"
     ],
     "language": "python",
     "metadata": {},
     "outputs": [],
     "prompt_number": null
    },
    {
     "cell_type": "code",
     "collapsed": false,
     "input": [
      "myshow(sitk.Mask(img, seg==0))"
     ],
     "language": "python",
     "metadata": {},
     "outputs": [],
     "prompt_number": null
    },
    {
     "cell_type": "code",
     "collapsed": false,
     "input": [
      "seg = sitk.BinaryClosingByReconstruction(seg, 100)"
     ],
     "language": "python",
     "metadata": {},
     "outputs": [],
     "prompt_number": null
    },
    {
     "cell_type": "code",
     "collapsed": false,
     "input": [
      "myshow(sitk.Mask(img, seg==0))"
     ],
     "language": "python",
     "metadata": {},
     "outputs": [],
     "prompt_number": null
    }
   ],
   "metadata": {}
  }
 ]
}